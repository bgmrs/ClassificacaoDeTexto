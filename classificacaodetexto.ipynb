{
  "metadata": {
    "kernelspec": {
      "language": "python",
      "display_name": "Python 3",
      "name": "python3"
    },
    "language_info": {
      "pygments_lexer": "ipython3",
      "nbconvert_exporter": "python",
      "version": "3.6.4",
      "file_extension": ".py",
      "codemirror_mode": {
        "name": "ipython",
        "version": 3
      },
      "name": "python",
      "mimetype": "text/x-python"
    },
    "colab": {
      "provenance": [],
      "collapsed_sections": [
        "b5c13w3x9w_1",
        "EyK_mDSp9qnd",
        "SE6Uale4967I",
        "6GZFF2gI-AFO",
        "6sSEHaHbSI-n"
      ]
    }
  },
  "nbformat_minor": 0,
  "nbformat": 4,
  "cells": [
    {
      "cell_type": "code",
      "source": [
        "! pip install unidecode"
      ],
      "metadata": {
        "id": "-DZvxRFxIcMG",
        "execution": {
          "iopub.status.busy": "2022-10-24T15:49:22.155025Z",
          "iopub.execute_input": "2022-10-24T15:49:22.156060Z",
          "iopub.status.idle": "2022-10-24T15:49:33.462080Z",
          "shell.execute_reply.started": "2022-10-24T15:49:22.156015Z",
          "shell.execute_reply": "2022-10-24T15:49:33.460481Z"
        },
        "trusted": true
      },
      "execution_count": null,
      "outputs": []
    },
    {
      "cell_type": "code",
      "source": [
        "import pandas as pd\n",
        "import spacy\n",
        "import nltk\n",
        "import re\n",
        "from nltk.stem import RSLPStemmer\n",
        "from unidecode import unidecode"
      ],
      "metadata": {
        "id": "fkIX0CsPSVmi",
        "execution": {
          "iopub.status.busy": "2022-10-24T15:49:33.464824Z",
          "iopub.execute_input": "2022-10-24T15:49:33.465225Z",
          "iopub.status.idle": "2022-10-24T15:49:33.471856Z",
          "shell.execute_reply.started": "2022-10-24T15:49:33.465184Z",
          "shell.execute_reply": "2022-10-24T15:49:33.470587Z"
        },
        "trusted": true
      },
      "execution_count": null,
      "outputs": []
    },
    {
      "cell_type": "code",
      "source": [
        "!python -m spacy download pt_core_news_sm\n",
        "\n",
        "nlp = spacy.load('pt_core_news_sm')\n",
        "nltk.download('stopwords')\n",
        "nltk.download('rslp')"
      ],
      "metadata": {
        "id": "_stjTw-5Tdr1",
        "execution": {
          "iopub.status.busy": "2022-10-24T15:49:33.473732Z",
          "iopub.execute_input": "2022-10-24T15:49:33.474203Z",
          "iopub.status.idle": "2022-10-24T15:49:52.540568Z",
          "shell.execute_reply.started": "2022-10-24T15:49:33.474145Z",
          "shell.execute_reply": "2022-10-24T15:49:52.538885Z"
        },
        "trusted": true
      },
      "execution_count": null,
      "outputs": []
    },
    {
      "cell_type": "markdown",
      "source": [
        "# Treino"
      ],
      "metadata": {
        "id": "L4nOdbVe7fJN"
      }
    },
    {
      "cell_type": "markdown",
      "source": [
        "## Análise exploratória dos dados"
      ],
      "metadata": {
        "id": "b5c13w3x9w_1"
      }
    },
    {
      "cell_type": "code",
      "source": [
        "df = pd.read_csv(\"../input/5cd-classificacao-emocao/6 - base_dados_treinamento - Kaggle.csv\")"
      ],
      "metadata": {
        "id": "iHrfiaSQ00B_",
        "execution": {
          "iopub.status.busy": "2022-10-24T15:49:52.543498Z",
          "iopub.execute_input": "2022-10-24T15:49:52.543891Z",
          "iopub.status.idle": "2022-10-24T15:49:52.554929Z",
          "shell.execute_reply.started": "2022-10-24T15:49:52.543854Z",
          "shell.execute_reply": "2022-10-24T15:49:52.553530Z"
        },
        "trusted": true
      },
      "execution_count": null,
      "outputs": []
    },
    {
      "cell_type": "code",
      "source": [
        "df.head()"
      ],
      "metadata": {
        "id": "Ba4l04N_1Lc1",
        "execution": {
          "iopub.status.busy": "2022-10-24T15:49:52.556386Z",
          "iopub.execute_input": "2022-10-24T15:49:52.556861Z",
          "iopub.status.idle": "2022-10-24T15:49:52.572142Z",
          "shell.execute_reply.started": "2022-10-24T15:49:52.556808Z",
          "shell.execute_reply": "2022-10-24T15:49:52.570741Z"
        },
        "trusted": true
      },
      "execution_count": null,
      "outputs": []
    },
    {
      "cell_type": "code",
      "source": [
        "df.isnull().sum()"
      ],
      "metadata": {
        "id": "tci8TdMOSuoU",
        "execution": {
          "iopub.status.busy": "2022-10-24T15:49:52.573786Z",
          "iopub.execute_input": "2022-10-24T15:49:52.574197Z",
          "iopub.status.idle": "2022-10-24T15:49:52.589910Z",
          "shell.execute_reply.started": "2022-10-24T15:49:52.574146Z",
          "shell.execute_reply": "2022-10-24T15:49:52.588631Z"
        },
        "trusted": true
      },
      "execution_count": null,
      "outputs": []
    },
    {
      "cell_type": "code",
      "source": [
        "df.info()"
      ],
      "metadata": {
        "id": "y2LIcYxu9Qge",
        "execution": {
          "iopub.status.busy": "2022-10-24T15:49:52.591331Z",
          "iopub.execute_input": "2022-10-24T15:49:52.591827Z",
          "iopub.status.idle": "2022-10-24T15:49:52.612177Z",
          "shell.execute_reply.started": "2022-10-24T15:49:52.591779Z",
          "shell.execute_reply": "2022-10-24T15:49:52.610724Z"
        },
        "trusted": true
      },
      "execution_count": null,
      "outputs": []
    },
    {
      "cell_type": "markdown",
      "source": [
        "## Pré - processamento"
      ],
      "metadata": {
        "id": "EyK_mDSp9qnd"
      }
    },
    {
      "cell_type": "code",
      "source": [
        "# Split da coluna \"id;Texto;Label\" separado por ;\n",
        "new = df[\"id;Texto;Label\"].str.split(\";\", n = 2, expand = True)\n",
        "\n",
        "# Criando a Nova Coluna \"Id\" com o new[0]\n",
        "df[\"id\"]= new[0]\n",
        "\n",
        "# Criando a Nova Coluna \"Texto\" com o new[1]\n",
        "df[\"Texto\"]= new[1]\n",
        "\n",
        "# Criando a Nova Coluna \"Label\" com o new[2]\n",
        "df[\"Label\"]= new[2]"
      ],
      "metadata": {
        "id": "cdqK6Oor135o",
        "execution": {
          "iopub.status.busy": "2022-10-24T15:49:52.613615Z",
          "iopub.execute_input": "2022-10-24T15:49:52.614117Z",
          "iopub.status.idle": "2022-10-24T15:49:52.630787Z",
          "shell.execute_reply.started": "2022-10-24T15:49:52.614071Z",
          "shell.execute_reply": "2022-10-24T15:49:52.629372Z"
        },
        "trusted": true
      },
      "execution_count": null,
      "outputs": []
    },
    {
      "cell_type": "code",
      "source": [
        "# Retirando a antiga coluna \"id;Texto;Label\"\n",
        "df.drop(columns =[\"id;Texto;Label\"], inplace = True)"
      ],
      "metadata": {
        "id": "jGV8E-Rg2qgQ",
        "execution": {
          "iopub.status.busy": "2022-10-24T15:49:52.632608Z",
          "iopub.execute_input": "2022-10-24T15:49:52.633216Z",
          "iopub.status.idle": "2022-10-24T15:49:52.652338Z",
          "shell.execute_reply.started": "2022-10-24T15:49:52.633167Z",
          "shell.execute_reply": "2022-10-24T15:49:52.650924Z"
        },
        "trusted": true
      },
      "execution_count": null,
      "outputs": []
    },
    {
      "cell_type": "code",
      "source": [
        "df[\"sentiment_int\"] = df[\"Label\"].map({\"positivo\": 1, \"negativo\": 0})"
      ],
      "metadata": {
        "id": "aYLA3rPHsdiG",
        "execution": {
          "iopub.status.busy": "2022-10-24T15:49:52.656239Z",
          "iopub.execute_input": "2022-10-24T15:49:52.656670Z",
          "iopub.status.idle": "2022-10-24T15:49:52.668152Z",
          "shell.execute_reply.started": "2022-10-24T15:49:52.656632Z",
          "shell.execute_reply": "2022-10-24T15:49:52.666603Z"
        },
        "trusted": true
      },
      "execution_count": null,
      "outputs": []
    },
    {
      "cell_type": "markdown",
      "source": [
        "Lowercase e acenteuação"
      ],
      "metadata": {
        "id": "uJbKkBPKJYsW"
      }
    },
    {
      "cell_type": "code",
      "source": [
        "df['Texto'] = df.Texto.apply(str.lower)\n",
        "df['Texto'] = df.Texto.apply(unidecode)"
      ],
      "metadata": {
        "id": "924Lyw9wuphl",
        "execution": {
          "iopub.status.busy": "2022-10-24T15:49:52.670429Z",
          "iopub.execute_input": "2022-10-24T15:49:52.670958Z",
          "iopub.status.idle": "2022-10-24T15:49:52.686540Z",
          "shell.execute_reply.started": "2022-10-24T15:49:52.670894Z",
          "shell.execute_reply": "2022-10-24T15:49:52.685474Z"
        },
        "trusted": true
      },
      "execution_count": null,
      "outputs": []
    },
    {
      "cell_type": "markdown",
      "source": [
        "Retindo caracteres especiais"
      ],
      "metadata": {
        "id": "Yhxsq-AfJ2mX"
      }
    },
    {
      "cell_type": "code",
      "source": [
        "# Substitui nickname por espaço\n",
        "\n",
        "df = df.replace(to_replace = '\\@(\\w{4,15})', value = ' ', regex = True)"
      ],
      "metadata": {
        "execution": {
          "iopub.status.busy": "2022-10-24T15:49:52.689193Z",
          "iopub.execute_input": "2022-10-24T15:49:52.689578Z",
          "iopub.status.idle": "2022-10-24T15:49:52.704122Z",
          "shell.execute_reply.started": "2022-10-24T15:49:52.689544Z",
          "shell.execute_reply": "2022-10-24T15:49:52.702722Z"
        },
        "trusted": true,
        "id": "gHqw0Iso_-r8"
      },
      "execution_count": null,
      "outputs": []
    },
    {
      "cell_type": "code",
      "source": [
        "# Substitui link por espaço\n",
        "\n",
        "df = df.replace(to_replace ='http[s]?://(?:[a-zA-Z]|[0-9]|[$-_@.&+]|[!*\\(\\),]|(?:%[0-9a-fA-F][0-9a-fA-F]))+', value = ' ', regex = True)"
      ],
      "metadata": {
        "id": "Uml32gy2Jilv",
        "execution": {
          "iopub.status.busy": "2022-10-24T15:49:52.707834Z",
          "iopub.execute_input": "2022-10-24T15:49:52.708270Z",
          "iopub.status.idle": "2022-10-24T15:49:52.718211Z",
          "shell.execute_reply.started": "2022-10-24T15:49:52.708235Z",
          "shell.execute_reply": "2022-10-24T15:49:52.716805Z"
        },
        "trusted": true
      },
      "execution_count": null,
      "outputs": []
    },
    {
      "cell_type": "code",
      "source": [
        "# Substitui por espaço todos caracteres que não forem de a a Z, dígitos de 0 a 9 e o caractere sublinhado _\n",
        "\n",
        "df['Texto'] = df['Texto'].apply(lambda x : re.sub('\\W', ' ', str(x)))\n",
        "df['Label'] = df['Label'].apply(lambda x : re.sub('\\W', ' ', str(x)))"
      ],
      "metadata": {
        "id": "E48OMgusJkq2",
        "execution": {
          "iopub.status.busy": "2022-10-24T15:49:52.720971Z",
          "iopub.execute_input": "2022-10-24T15:49:52.721472Z",
          "iopub.status.idle": "2022-10-24T15:49:52.732554Z",
          "shell.execute_reply.started": "2022-10-24T15:49:52.721424Z",
          "shell.execute_reply": "2022-10-24T15:49:52.731438Z"
        },
        "trusted": true
      },
      "execution_count": null,
      "outputs": []
    },
    {
      "cell_type": "code",
      "source": [
        "# Substitui o caracter _ por espaço\n",
        "\n",
        "df = df.replace(to_replace ='_', value = ' ', regex = True)"
      ],
      "metadata": {
        "id": "jmt1iSIoJsV2",
        "execution": {
          "iopub.status.busy": "2022-10-24T15:49:52.733814Z",
          "iopub.execute_input": "2022-10-24T15:49:52.734768Z",
          "iopub.status.idle": "2022-10-24T15:49:52.750081Z",
          "shell.execute_reply.started": "2022-10-24T15:49:52.734730Z",
          "shell.execute_reply": "2022-10-24T15:49:52.749070Z"
        },
        "trusted": true
      },
      "execution_count": null,
      "outputs": []
    },
    {
      "cell_type": "markdown",
      "source": [
        "Stop word, lematização e tokenização"
      ],
      "metadata": {
        "id": "C5w_5sq3I7TB"
      }
    },
    {
      "cell_type": "code",
      "source": [
        "from nltk.tokenize import TweetTokenizer\n",
        "from nltk.corpus import stopwords\n",
        "from nltk.stem.wordnet import WordNetLemmatizer"
      ],
      "metadata": {
        "id": "Q5T64D-8JjL2",
        "execution": {
          "iopub.status.busy": "2022-10-24T15:49:52.751712Z",
          "iopub.execute_input": "2022-10-24T15:49:52.752415Z",
          "iopub.status.idle": "2022-10-24T15:49:52.761905Z",
          "shell.execute_reply.started": "2022-10-24T15:49:52.752344Z",
          "shell.execute_reply": "2022-10-24T15:49:52.760433Z"
        },
        "trusted": true
      },
      "execution_count": null,
      "outputs": []
    },
    {
      "cell_type": "code",
      "source": [
        "# Stop words\n",
        "\n",
        "stop = stopwords.words('portuguese')\n",
        "\n",
        "df['Texto'] = df['Texto'].apply(lambda x: ' '.join([word for word in x.split() if word not in (stop)]))"
      ],
      "metadata": {
        "id": "B1Ig0m8wJLbG",
        "execution": {
          "iopub.status.busy": "2022-10-24T15:49:52.763520Z",
          "iopub.execute_input": "2022-10-24T15:49:52.763885Z",
          "iopub.status.idle": "2022-10-24T15:49:52.782143Z",
          "shell.execute_reply.started": "2022-10-24T15:49:52.763852Z",
          "shell.execute_reply": "2022-10-24T15:49:52.781073Z"
        },
        "trusted": true
      },
      "execution_count": null,
      "outputs": []
    },
    {
      "cell_type": "code",
      "source": [
        "# Lematização\n",
        "\n",
        "df['Texto'] = df['Texto'].apply(lambda row: \" \".join([w.lemma_ for w in nlp(row)]))"
      ],
      "metadata": {
        "id": "rO-DsgIiJLhC",
        "execution": {
          "iopub.status.busy": "2022-10-24T15:49:52.783301Z",
          "iopub.execute_input": "2022-10-24T15:49:52.784556Z",
          "iopub.status.idle": "2022-10-24T15:49:54.156010Z",
          "shell.execute_reply.started": "2022-10-24T15:49:52.784493Z",
          "shell.execute_reply": "2022-10-24T15:49:54.154557Z"
        },
        "trusted": true
      },
      "execution_count": null,
      "outputs": []
    },
    {
      "cell_type": "markdown",
      "source": [
        "# Teste"
      ],
      "metadata": {
        "id": "qKBKyiws7Zld"
      }
    },
    {
      "cell_type": "markdown",
      "source": [
        "## Análise exploratória dos dados"
      ],
      "metadata": {
        "id": "SE6Uale4967I"
      }
    },
    {
      "cell_type": "code",
      "source": [
        "df_test = pd.read_csv(\"../input/5cd-classificacao-emocao/6 - base_dados_teste_certificacao - Kaggle.csv\", error_bad_lines=False)"
      ],
      "metadata": {
        "id": "_ld7aF6k7iv0",
        "execution": {
          "iopub.status.busy": "2022-10-24T15:49:54.157732Z",
          "iopub.execute_input": "2022-10-24T15:49:54.158177Z",
          "iopub.status.idle": "2022-10-24T15:49:54.166823Z",
          "shell.execute_reply.started": "2022-10-24T15:49:54.158132Z",
          "shell.execute_reply": "2022-10-24T15:49:54.165426Z"
        },
        "trusted": true
      },
      "execution_count": null,
      "outputs": []
    },
    {
      "cell_type": "code",
      "source": [
        "df_test.head()"
      ],
      "metadata": {
        "id": "OTAyDT357o_c",
        "execution": {
          "iopub.status.busy": "2022-10-24T15:49:54.169029Z",
          "iopub.execute_input": "2022-10-24T15:49:54.169408Z",
          "iopub.status.idle": "2022-10-24T15:49:54.181781Z",
          "shell.execute_reply.started": "2022-10-24T15:49:54.169368Z",
          "shell.execute_reply": "2022-10-24T15:49:54.180441Z"
        },
        "trusted": true
      },
      "execution_count": null,
      "outputs": []
    },
    {
      "cell_type": "code",
      "source": [
        "df_test.info()"
      ],
      "metadata": {
        "id": "SmigYvAC_b4M",
        "execution": {
          "iopub.status.busy": "2022-10-24T15:49:54.183313Z",
          "iopub.execute_input": "2022-10-24T15:49:54.184020Z",
          "iopub.status.idle": "2022-10-24T15:49:54.201750Z",
          "shell.execute_reply.started": "2022-10-24T15:49:54.183980Z",
          "shell.execute_reply": "2022-10-24T15:49:54.200321Z"
        },
        "trusted": true
      },
      "execution_count": null,
      "outputs": []
    },
    {
      "cell_type": "code",
      "source": [
        "df_test.isnull().sum()"
      ],
      "metadata": {
        "id": "fTw34Waa_i5c",
        "execution": {
          "iopub.status.busy": "2022-10-24T15:49:54.203340Z",
          "iopub.execute_input": "2022-10-24T15:49:54.203811Z",
          "iopub.status.idle": "2022-10-24T15:49:54.219773Z",
          "shell.execute_reply.started": "2022-10-24T15:49:54.203777Z",
          "shell.execute_reply": "2022-10-24T15:49:54.218464Z"
        },
        "trusted": true
      },
      "execution_count": null,
      "outputs": []
    },
    {
      "cell_type": "markdown",
      "source": [
        "## Pré - processamento"
      ],
      "metadata": {
        "id": "6GZFF2gI-AFO"
      }
    },
    {
      "cell_type": "code",
      "source": [
        "# Split da coluna \"id;Texto;Label\" separado por ;\n",
        "new = df_test[\"id;texto\"].str.split(\";\", n = 1, expand = True)\n",
        "\n",
        "# Criando a Nova Coluna \"Id\" com o new[0]\n",
        "df_test[\"Id\"]= new[0]\n",
        "\n",
        "# Criando a Nova Coluna \"Texto\" com o new[1]\n",
        "df_test[\"Texto\"]= new[1]"
      ],
      "metadata": {
        "id": "-PFgSGdl7pEc",
        "execution": {
          "iopub.status.busy": "2022-10-24T15:49:54.221785Z",
          "iopub.execute_input": "2022-10-24T15:49:54.222281Z",
          "iopub.status.idle": "2022-10-24T15:49:54.235174Z",
          "shell.execute_reply.started": "2022-10-24T15:49:54.222228Z",
          "shell.execute_reply": "2022-10-24T15:49:54.233820Z"
        },
        "trusted": true
      },
      "execution_count": null,
      "outputs": []
    },
    {
      "cell_type": "code",
      "source": [
        "# Retirando a antiga coluna \"id;Texto;Label\"\n",
        "df_test.drop(columns =[\"id;texto\"], inplace = True)"
      ],
      "metadata": {
        "id": "LCOUdRve8VvV",
        "execution": {
          "iopub.status.busy": "2022-10-24T15:49:54.237374Z",
          "iopub.execute_input": "2022-10-24T15:49:54.237872Z",
          "iopub.status.idle": "2022-10-24T15:49:54.255005Z",
          "shell.execute_reply.started": "2022-10-24T15:49:54.237825Z",
          "shell.execute_reply": "2022-10-24T15:49:54.253504Z"
        },
        "trusted": true
      },
      "execution_count": null,
      "outputs": []
    },
    {
      "cell_type": "markdown",
      "source": [
        "Lowercase e acenteuação"
      ],
      "metadata": {
        "id": "rE1dvERqJz75"
      }
    },
    {
      "cell_type": "code",
      "source": [
        "df_test['Texto'] = df_test.Texto.apply(str.lower)\n",
        "df_test['Texto'] = df_test.Texto.apply(unidecode)"
      ],
      "metadata": {
        "id": "pVPXqV0fJz76",
        "execution": {
          "iopub.status.busy": "2022-10-24T15:49:54.257024Z",
          "iopub.execute_input": "2022-10-24T15:49:54.257412Z",
          "iopub.status.idle": "2022-10-24T15:49:54.272945Z",
          "shell.execute_reply.started": "2022-10-24T15:49:54.257366Z",
          "shell.execute_reply": "2022-10-24T15:49:54.271926Z"
        },
        "trusted": true
      },
      "execution_count": null,
      "outputs": []
    },
    {
      "cell_type": "markdown",
      "source": [
        "Retindo caracteres especiais"
      ],
      "metadata": {
        "id": "LfD5YY6HLBkP"
      }
    },
    {
      "cell_type": "code",
      "source": [
        "# Substitui nickname por espaço\n",
        "\n",
        "df_test = df_test.replace(to_replace = '\\@(\\w{4,15})', value = ' ', regex = True)"
      ],
      "metadata": {
        "execution": {
          "iopub.status.busy": "2022-10-24T15:49:54.274255Z",
          "iopub.execute_input": "2022-10-24T15:49:54.274621Z",
          "iopub.status.idle": "2022-10-24T15:49:54.285172Z",
          "shell.execute_reply.started": "2022-10-24T15:49:54.274589Z",
          "shell.execute_reply": "2022-10-24T15:49:54.283906Z"
        },
        "trusted": true,
        "id": "_I-nS2cr_-sE"
      },
      "execution_count": null,
      "outputs": []
    },
    {
      "cell_type": "code",
      "source": [
        "# Substitui link por espaço\n",
        "\n",
        "df_test = df_test.replace(to_replace ='http[s]?://(?:[a-zA-Z]|[0-9]|[$-_@.&+]|[!*\\(\\),]|(?:%[0-9a-fA-F][0-9a-fA-F]))+', value = ' ', regex = True)"
      ],
      "metadata": {
        "id": "0Vxh8joaLBkR",
        "execution": {
          "iopub.status.busy": "2022-10-24T15:49:54.287231Z",
          "iopub.execute_input": "2022-10-24T15:49:54.287858Z",
          "iopub.status.idle": "2022-10-24T15:49:54.297629Z",
          "shell.execute_reply.started": "2022-10-24T15:49:54.287805Z",
          "shell.execute_reply": "2022-10-24T15:49:54.296534Z"
        },
        "trusted": true
      },
      "execution_count": null,
      "outputs": []
    },
    {
      "cell_type": "code",
      "source": [
        "# Substitui por espaço todos caracteres que não forem de a a Z, dígitos de 0 a 9 e o caractere sublinhado _\n",
        "\n",
        "df_test['Texto'] = df_test['Texto'].apply(lambda x : re.sub('\\W', ' ', str(x)))"
      ],
      "metadata": {
        "id": "c3wZJ7-4LBkR",
        "execution": {
          "iopub.status.busy": "2022-10-24T15:49:54.304709Z",
          "iopub.execute_input": "2022-10-24T15:49:54.305345Z",
          "iopub.status.idle": "2022-10-24T15:49:54.314716Z",
          "shell.execute_reply.started": "2022-10-24T15:49:54.305304Z",
          "shell.execute_reply": "2022-10-24T15:49:54.313623Z"
        },
        "trusted": true
      },
      "execution_count": null,
      "outputs": []
    },
    {
      "cell_type": "code",
      "source": [
        "# Substitui o caracter _ por espaço\n",
        "\n",
        "df_test = df_test.replace(to_replace ='_', value = ' ', regex = True)"
      ],
      "metadata": {
        "id": "HacZilX2LBkS",
        "execution": {
          "iopub.status.busy": "2022-10-24T15:49:54.316340Z",
          "iopub.execute_input": "2022-10-24T15:49:54.317036Z",
          "iopub.status.idle": "2022-10-24T15:49:54.327867Z",
          "shell.execute_reply.started": "2022-10-24T15:49:54.316999Z",
          "shell.execute_reply": "2022-10-24T15:49:54.326887Z"
        },
        "trusted": true
      },
      "execution_count": null,
      "outputs": []
    },
    {
      "cell_type": "markdown",
      "source": [
        "Stop word, lematização e tokenização"
      ],
      "metadata": {
        "id": "dt1AnQ7tJz77"
      }
    },
    {
      "cell_type": "code",
      "source": [
        "from nltk.tokenize import TweetTokenizer\n",
        "from nltk.corpus import stopwords\n",
        "from nltk.stem.wordnet import WordNetLemmatizer"
      ],
      "metadata": {
        "id": "pMHnpRfQJz77",
        "execution": {
          "iopub.status.busy": "2022-10-24T15:49:54.329169Z",
          "iopub.execute_input": "2022-10-24T15:49:54.330282Z",
          "iopub.status.idle": "2022-10-24T15:49:54.341993Z",
          "shell.execute_reply.started": "2022-10-24T15:49:54.330243Z",
          "shell.execute_reply": "2022-10-24T15:49:54.340815Z"
        },
        "trusted": true
      },
      "execution_count": null,
      "outputs": []
    },
    {
      "cell_type": "code",
      "source": [
        "# Stop words\n",
        "\n",
        "stop = stopwords.words('portuguese')\n",
        "\n",
        "df_test['Texto'] = df_test['Texto'].apply(lambda x: ' '.join([word for word in x.split() if word not in (stop)]))"
      ],
      "metadata": {
        "id": "mwPwVoACJz78",
        "execution": {
          "iopub.status.busy": "2022-10-24T15:49:54.343214Z",
          "iopub.execute_input": "2022-10-24T15:49:54.344031Z",
          "iopub.status.idle": "2022-10-24T15:49:54.361330Z",
          "shell.execute_reply.started": "2022-10-24T15:49:54.343922Z",
          "shell.execute_reply": "2022-10-24T15:49:54.360163Z"
        },
        "trusted": true
      },
      "execution_count": null,
      "outputs": []
    },
    {
      "cell_type": "code",
      "source": [
        "# Lematização\n",
        "\n",
        "df_test['Texto'] = df_test['Texto'].apply(lambda row: \" \".join([w.lemma_ for w in nlp(row)]))"
      ],
      "metadata": {
        "id": "Sxmo5RfbJz8A",
        "execution": {
          "iopub.status.busy": "2022-10-24T15:49:54.362753Z",
          "iopub.execute_input": "2022-10-24T15:49:54.363965Z",
          "iopub.status.idle": "2022-10-24T15:49:55.697152Z",
          "shell.execute_reply.started": "2022-10-24T15:49:54.363916Z",
          "shell.execute_reply": "2022-10-24T15:49:55.696140Z"
        },
        "trusted": true
      },
      "execution_count": null,
      "outputs": []
    },
    {
      "cell_type": "markdown",
      "source": [
        "## Modelo"
      ],
      "metadata": {
        "id": "6sSEHaHbSI-n"
      }
    },
    {
      "cell_type": "code",
      "source": [
        "from sklearn import model_selection, preprocessing, linear_model, metrics\n",
        "from sklearn.feature_extraction.text import CountVectorizer"
      ],
      "metadata": {
        "id": "1ChXd2tEB_Ar",
        "execution": {
          "iopub.status.busy": "2022-10-24T15:49:55.698506Z",
          "iopub.execute_input": "2022-10-24T15:49:55.699043Z",
          "iopub.status.idle": "2022-10-24T15:49:55.703890Z",
          "shell.execute_reply.started": "2022-10-24T15:49:55.699009Z",
          "shell.execute_reply": "2022-10-24T15:49:55.702406Z"
        },
        "trusted": true
      },
      "execution_count": null,
      "outputs": []
    },
    {
      "cell_type": "markdown",
      "source": [
        "Treino e validação - Hould out"
      ],
      "metadata": {
        "id": "yhV59canBlLx"
      }
    },
    {
      "cell_type": "code",
      "source": [
        "train_x, test_x, train_y, test_y = model_selection.train_test_split(df[\"Texto\"], df[\"sentiment_int\"])"
      ],
      "metadata": {
        "id": "zLIJrQwNA6Hy",
        "execution": {
          "iopub.status.busy": "2022-10-24T15:49:55.705690Z",
          "iopub.execute_input": "2022-10-24T15:49:55.706232Z",
          "iopub.status.idle": "2022-10-24T15:49:55.722808Z",
          "shell.execute_reply.started": "2022-10-24T15:49:55.706185Z",
          "shell.execute_reply": "2022-10-24T15:49:55.721387Z"
        },
        "trusted": true
      },
      "execution_count": null,
      "outputs": []
    },
    {
      "cell_type": "markdown",
      "source": [
        "CountVectorizer para contar as palavras em cada tweet - frequencia positiva e negativa das palavras"
      ],
      "metadata": {
        "id": "e4Nab6_m49z_"
      }
    },
    {
      "cell_type": "code",
      "source": [
        "vectorizer = CountVectorizer()\n",
        "vectorizer.fit(train_x)"
      ],
      "metadata": {
        "id": "Q8G2NMJHCkjt",
        "execution": {
          "iopub.status.busy": "2022-10-24T15:49:55.724384Z",
          "iopub.execute_input": "2022-10-24T15:49:55.724885Z",
          "iopub.status.idle": "2022-10-24T15:49:55.741151Z",
          "shell.execute_reply.started": "2022-10-24T15:49:55.724834Z",
          "shell.execute_reply": "2022-10-24T15:49:55.739858Z"
        },
        "trusted": true
      },
      "execution_count": null,
      "outputs": []
    },
    {
      "cell_type": "code",
      "source": [
        "x_train_count = vectorizer.transform(train_x)\n",
        "x_test_count = vectorizer.transform(test_x)"
      ],
      "metadata": {
        "id": "uVRnRzAMA6LB",
        "execution": {
          "iopub.status.busy": "2022-10-24T15:49:55.742636Z",
          "iopub.execute_input": "2022-10-24T15:49:55.743302Z",
          "iopub.status.idle": "2022-10-24T15:49:55.754126Z",
          "shell.execute_reply.started": "2022-10-24T15:49:55.743264Z",
          "shell.execute_reply": "2022-10-24T15:49:55.752749Z"
        },
        "trusted": true
      },
      "execution_count": null,
      "outputs": []
    },
    {
      "cell_type": "code",
      "source": [
        "x_train_count.toarray()"
      ],
      "metadata": {
        "id": "2OBoDbIQBIW8",
        "execution": {
          "iopub.status.busy": "2022-10-24T15:49:55.756045Z",
          "iopub.execute_input": "2022-10-24T15:49:55.756527Z",
          "iopub.status.idle": "2022-10-24T15:49:55.772393Z",
          "shell.execute_reply.started": "2022-10-24T15:49:55.756491Z",
          "shell.execute_reply": "2022-10-24T15:49:55.771466Z"
        },
        "trusted": true
      },
      "execution_count": null,
      "outputs": []
    },
    {
      "cell_type": "markdown",
      "source": [
        "Regressão logística"
      ],
      "metadata": {
        "id": "slPPmuznFEWh"
      }
    },
    {
      "cell_type": "code",
      "source": [
        "log = linear_model.LogisticRegression()\n",
        "log_model = log.fit(x_train_count, train_y)"
      ],
      "metadata": {
        "id": "nyFBd4mCBIZA",
        "execution": {
          "iopub.status.busy": "2022-10-24T15:49:55.773785Z",
          "iopub.execute_input": "2022-10-24T15:49:55.774687Z",
          "iopub.status.idle": "2022-10-24T15:49:55.797283Z",
          "shell.execute_reply.started": "2022-10-24T15:49:55.774647Z",
          "shell.execute_reply": "2022-10-24T15:49:55.796099Z"
        },
        "trusted": true
      },
      "execution_count": null,
      "outputs": []
    },
    {
      "cell_type": "markdown",
      "source": [
        "F1 score"
      ],
      "metadata": {
        "id": "hw_5VsvdFMHK"
      }
    },
    {
      "cell_type": "code",
      "source": [
        "scores = model_selection.cross_val_score(log_model, x_test_count, test_y, cv = 3, scoring=\"f1\")\n",
        "print(scores)"
      ],
      "metadata": {
        "id": "OavtDApcFNtC",
        "execution": {
          "iopub.status.busy": "2022-10-24T15:49:55.799250Z",
          "iopub.execute_input": "2022-10-24T15:49:55.799734Z",
          "iopub.status.idle": "2022-10-24T15:49:55.833627Z",
          "shell.execute_reply.started": "2022-10-24T15:49:55.799688Z",
          "shell.execute_reply": "2022-10-24T15:49:55.832335Z"
        },
        "trusted": true
      },
      "execution_count": null,
      "outputs": []
    },
    {
      "cell_type": "markdown",
      "source": [
        "Teste"
      ],
      "metadata": {
        "id": "Z8mtvM5bFecE"
      }
    },
    {
      "cell_type": "code",
      "source": [
        "test_vect = vectorizer.transform(df_test.Texto)\n",
        "test_vect = test_vect.toarray()"
      ],
      "metadata": {
        "id": "777X388sBc-6",
        "execution": {
          "iopub.status.busy": "2022-10-24T15:49:55.834840Z",
          "iopub.execute_input": "2022-10-24T15:49:55.835281Z",
          "iopub.status.idle": "2022-10-24T15:49:55.843016Z",
          "shell.execute_reply.started": "2022-10-24T15:49:55.835235Z",
          "shell.execute_reply": "2022-10-24T15:49:55.841819Z"
        },
        "trusted": true
      },
      "execution_count": null,
      "outputs": []
    },
    {
      "cell_type": "markdown",
      "source": [
        "Predições"
      ],
      "metadata": {
        "id": "3RnKJrlFFxTE"
      }
    },
    {
      "cell_type": "code",
      "source": [
        "predictions = log_model.predict(test_vect)\n",
        "predictions"
      ],
      "metadata": {
        "id": "bpe2fgAEBdDf",
        "execution": {
          "iopub.status.busy": "2022-10-24T15:49:55.844596Z",
          "iopub.execute_input": "2022-10-24T15:49:55.845021Z",
          "iopub.status.idle": "2022-10-24T15:49:55.861485Z",
          "shell.execute_reply.started": "2022-10-24T15:49:55.844922Z",
          "shell.execute_reply": "2022-10-24T15:49:55.859847Z"
        },
        "trusted": true
      },
      "execution_count": null,
      "outputs": []
    },
    {
      "cell_type": "code",
      "source": [
        "predictions = pd.DataFrame(predictions)"
      ],
      "metadata": {
        "execution": {
          "iopub.status.busy": "2022-10-24T15:49:55.863623Z",
          "iopub.execute_input": "2022-10-24T15:49:55.865646Z",
          "iopub.status.idle": "2022-10-24T15:49:55.877402Z",
          "shell.execute_reply.started": "2022-10-24T15:49:55.865574Z",
          "shell.execute_reply": "2022-10-24T15:49:55.875321Z"
        },
        "trusted": true,
        "id": "4XVjlQty_-sO"
      },
      "execution_count": null,
      "outputs": []
    },
    {
      "cell_type": "code",
      "source": [
        "predictions[\"sentimento\"] = predictions[0].map({1 : \"positivo\", 0 : \"negativo\"})"
      ],
      "metadata": {
        "execution": {
          "iopub.status.busy": "2022-10-24T15:49:55.886280Z",
          "iopub.execute_input": "2022-10-24T15:49:55.887573Z",
          "iopub.status.idle": "2022-10-24T15:49:55.908828Z",
          "shell.execute_reply.started": "2022-10-24T15:49:55.887492Z",
          "shell.execute_reply": "2022-10-24T15:49:55.906675Z"
        },
        "trusted": true,
        "id": "QFJ7KN_K_-sP"
      },
      "execution_count": null,
      "outputs": []
    },
    {
      "cell_type": "code",
      "source": [
        "predictions.insert(1, \"id\", range(1, 196), True)"
      ],
      "metadata": {
        "execution": {
          "iopub.status.busy": "2022-10-24T15:51:06.780154Z",
          "iopub.execute_input": "2022-10-24T15:51:06.780913Z",
          "iopub.status.idle": "2022-10-24T15:51:06.852330Z",
          "shell.execute_reply.started": "2022-10-24T15:51:06.780849Z",
          "shell.execute_reply": "2022-10-24T15:51:06.851061Z"
        },
        "trusted": true,
        "id": "AN8dcKro_-sP"
      },
      "execution_count": null,
      "outputs": []
    },
    {
      "cell_type": "code",
      "source": [
        "predictions.drop([0], axis=1, inplace=True)"
      ],
      "metadata": {
        "execution": {
          "iopub.status.busy": "2022-10-24T15:49:55.944882Z",
          "iopub.execute_input": "2022-10-24T15:49:55.946188Z",
          "iopub.status.idle": "2022-10-24T15:49:55.967552Z",
          "shell.execute_reply.started": "2022-10-24T15:49:55.946092Z",
          "shell.execute_reply": "2022-10-24T15:49:55.964128Z"
        },
        "trusted": true,
        "id": "ZbNNumIS_-sP"
      },
      "execution_count": null,
      "outputs": []
    }
  ]
}
