{
  "cells": [
    {
      "cell_type": "code",
      "execution_count": null,
      "metadata": {
        "execution": {
          "iopub.execute_input": "2022-10-24T15:49:22.156060Z",
          "iopub.status.busy": "2022-10-24T15:49:22.155025Z",
          "iopub.status.idle": "2022-10-24T15:49:33.462080Z",
          "shell.execute_reply": "2022-10-24T15:49:33.460481Z",
          "shell.execute_reply.started": "2022-10-24T15:49:22.156015Z"
        },
        "id": "-DZvxRFxIcMG",
        "trusted": true
      },
      "outputs": [],
      "source": [
        "! pip install unidecode"
      ]
    },
    {
      "cell_type": "code",
      "execution_count": null,
      "metadata": {
        "execution": {
          "iopub.execute_input": "2022-10-24T15:49:33.465225Z",
          "iopub.status.busy": "2022-10-24T15:49:33.464824Z",
          "iopub.status.idle": "2022-10-24T15:49:33.471856Z",
          "shell.execute_reply": "2022-10-24T15:49:33.470587Z",
          "shell.execute_reply.started": "2022-10-24T15:49:33.465184Z"
        },
        "id": "fkIX0CsPSVmi",
        "trusted": true
      },
      "outputs": [],
      "source": [
        "import pandas as pd\n",
        "import spacy\n",
        "import nltk\n",
        "import re\n",
        "from nltk.stem import RSLPStemmer\n",
        "from unidecode import unidecode"
      ]
    },
    {
      "cell_type": "code",
      "execution_count": null,
      "metadata": {
        "execution": {
          "iopub.execute_input": "2022-10-24T15:49:33.474203Z",
          "iopub.status.busy": "2022-10-24T15:49:33.473732Z",
          "iopub.status.idle": "2022-10-24T15:49:52.540568Z",
          "shell.execute_reply": "2022-10-24T15:49:52.538885Z",
          "shell.execute_reply.started": "2022-10-24T15:49:33.474145Z"
        },
        "id": "_stjTw-5Tdr1",
        "trusted": true
      },
      "outputs": [],
      "source": [
        "!python -m spacy download pt_core_news_sm\n",
        "\n",
        "nlp = spacy.load('pt_core_news_sm')\n",
        "nltk.download('stopwords')\n",
        "nltk.download('rslp')"
      ]
    },
    {
      "cell_type": "markdown",
      "metadata": {
        "id": "L4nOdbVe7fJN"
      },
      "source": [
        "# Treino"
      ]
    },
    {
      "cell_type": "markdown",
      "metadata": {
        "id": "b5c13w3x9w_1"
      },
      "source": [
        "## Análise exploratória dos dados"
      ]
    },
    {
      "cell_type": "code",
      "execution_count": null,
      "metadata": {
        "execution": {
          "iopub.execute_input": "2022-10-24T15:49:52.543891Z",
          "iopub.status.busy": "2022-10-24T15:49:52.543498Z",
          "iopub.status.idle": "2022-10-24T15:49:52.554929Z",
          "shell.execute_reply": "2022-10-24T15:49:52.553530Z",
          "shell.execute_reply.started": "2022-10-24T15:49:52.543854Z"
        },
        "id": "iHrfiaSQ00B_",
        "trusted": true
      },
      "outputs": [],
      "source": [
        "df = pd.read_csv(\"../input/5cd-classificacao-emocao/6 - base_dados_treinamento - Kaggle.csv\")"
      ]
    },
    {
      "cell_type": "code",
      "execution_count": null,
      "metadata": {
        "execution": {
          "iopub.execute_input": "2022-10-24T15:49:52.556861Z",
          "iopub.status.busy": "2022-10-24T15:49:52.556386Z",
          "iopub.status.idle": "2022-10-24T15:49:52.572142Z",
          "shell.execute_reply": "2022-10-24T15:49:52.570741Z",
          "shell.execute_reply.started": "2022-10-24T15:49:52.556808Z"
        },
        "id": "Ba4l04N_1Lc1",
        "trusted": true
      },
      "outputs": [],
      "source": [
        "df.head()"
      ]
    },
    {
      "cell_type": "code",
      "execution_count": null,
      "metadata": {},
      "outputs": [],
      "source": [
        "df.isnull().sum()"
      ]
    },
    {
      "cell_type": "code",
      "execution_count": null,
      "metadata": {},
      "outputs": [],
      "source": [
        "train.info()"
      ]
    },
    {
      "cell_type": "markdown",
      "metadata": {
        "id": "EyK_mDSp9qnd"
      },
      "source": [
        "## Pré - processamento"
      ]
    },
    {
      "cell_type": "code",
      "execution_count": null,
      "metadata": {
        "execution": {
          "iopub.execute_input": "2022-10-24T15:49:52.656670Z",
          "iopub.status.busy": "2022-10-24T15:49:52.656239Z",
          "iopub.status.idle": "2022-10-24T15:49:52.668152Z",
          "shell.execute_reply": "2022-10-24T15:49:52.666603Z",
          "shell.execute_reply.started": "2022-10-24T15:49:52.656632Z"
        },
        "id": "aYLA3rPHsdiG",
        "trusted": true
      },
      "outputs": [],
      "source": [
        "df[\"sentiment_int\"] = df[\"Label\"].map({\"positivo\": 1, \"negativo\": 0})"
      ]
    },
    {
      "cell_type": "markdown",
      "metadata": {
        "id": "uJbKkBPKJYsW"
      },
      "source": [
        "Lowercase e acenteuação"
      ]
    },
    {
      "cell_type": "code",
      "execution_count": null,
      "metadata": {
        "execution": {
          "iopub.execute_input": "2022-10-24T15:49:52.670958Z",
          "iopub.status.busy": "2022-10-24T15:49:52.670429Z",
          "iopub.status.idle": "2022-10-24T15:49:52.686540Z",
          "shell.execute_reply": "2022-10-24T15:49:52.685474Z",
          "shell.execute_reply.started": "2022-10-24T15:49:52.670894Z"
        },
        "id": "924Lyw9wuphl",
        "trusted": true
      },
      "outputs": [],
      "source": [
        "df['Texto'] = df.Texto.apply(str.lower)\n",
        "df['Texto'] = df.Texto.apply(unidecode)"
      ]
    },
    {
      "cell_type": "markdown",
      "metadata": {
        "id": "Yhxsq-AfJ2mX"
      },
      "source": [
        "Retindo caracteres especiais"
      ]
    },
    {
      "cell_type": "code",
      "execution_count": null,
      "metadata": {
        "execution": {
          "iopub.execute_input": "2022-10-24T15:49:52.689578Z",
          "iopub.status.busy": "2022-10-24T15:49:52.689193Z",
          "iopub.status.idle": "2022-10-24T15:49:52.704122Z",
          "shell.execute_reply": "2022-10-24T15:49:52.702722Z",
          "shell.execute_reply.started": "2022-10-24T15:49:52.689544Z"
        },
        "id": "gHqw0Iso_-r8",
        "trusted": true
      },
      "outputs": [],
      "source": [
        "# Substitui nickname por espaço\n",
        "\n",
        "df = df.replace(to_replace = '\\@(\\w{4,15})', value = ' ', regex = True)"
      ]
    },
    {
      "cell_type": "code",
      "execution_count": null,
      "metadata": {
        "execution": {
          "iopub.execute_input": "2022-10-24T15:49:52.708270Z",
          "iopub.status.busy": "2022-10-24T15:49:52.707834Z",
          "iopub.status.idle": "2022-10-24T15:49:52.718211Z",
          "shell.execute_reply": "2022-10-24T15:49:52.716805Z",
          "shell.execute_reply.started": "2022-10-24T15:49:52.708235Z"
        },
        "id": "Uml32gy2Jilv",
        "trusted": true
      },
      "outputs": [],
      "source": [
        "# Substitui link por espaço\n",
        "\n",
        "df = df.replace(to_replace ='http[s]?://(?:[a-zA-Z]|[0-9]|[$-_@.&+]|[!*\\(\\),]|(?:%[0-9a-fA-F][0-9a-fA-F]))+', value = ' ', regex = True)"
      ]
    },
    {
      "cell_type": "code",
      "execution_count": null,
      "metadata": {
        "execution": {
          "iopub.execute_input": "2022-10-24T15:49:52.721472Z",
          "iopub.status.busy": "2022-10-24T15:49:52.720971Z",
          "iopub.status.idle": "2022-10-24T15:49:52.732554Z",
          "shell.execute_reply": "2022-10-24T15:49:52.731438Z",
          "shell.execute_reply.started": "2022-10-24T15:49:52.721424Z"
        },
        "id": "E48OMgusJkq2",
        "trusted": true
      },
      "outputs": [],
      "source": [
        "# Substitui por espaço todos caracteres que não forem de a a Z, dígitos de 0 a 9 e o caractere sublinhado _\n",
        "\n",
        "df['Texto'] = df['Texto'].apply(lambda x : re.sub('\\W', ' ', str(x)))\n",
        "df['Label'] = df['Label'].apply(lambda x : re.sub('\\W', ' ', str(x)))"
      ]
    },
    {
      "cell_type": "code",
      "execution_count": null,
      "metadata": {
        "execution": {
          "iopub.execute_input": "2022-10-24T15:49:52.734768Z",
          "iopub.status.busy": "2022-10-24T15:49:52.733814Z",
          "iopub.status.idle": "2022-10-24T15:49:52.750081Z",
          "shell.execute_reply": "2022-10-24T15:49:52.749070Z",
          "shell.execute_reply.started": "2022-10-24T15:49:52.734730Z"
        },
        "id": "jmt1iSIoJsV2",
        "trusted": true
      },
      "outputs": [],
      "source": [
        "# Substitui o caracter _ por espaço\n",
        "\n",
        "df = df.replace(to_replace ='_', value = ' ', regex = True)"
      ]
    },
    {
      "cell_type": "markdown",
      "metadata": {
        "id": "C5w_5sq3I7TB"
      },
      "source": [
        "Stop word, lematização e tokenização"
      ]
    },
    {
      "cell_type": "code",
      "execution_count": null,
      "metadata": {
        "execution": {
          "iopub.execute_input": "2022-10-24T15:49:52.752415Z",
          "iopub.status.busy": "2022-10-24T15:49:52.751712Z",
          "iopub.status.idle": "2022-10-24T15:49:52.761905Z",
          "shell.execute_reply": "2022-10-24T15:49:52.760433Z",
          "shell.execute_reply.started": "2022-10-24T15:49:52.752344Z"
        },
        "id": "Q5T64D-8JjL2",
        "trusted": true
      },
      "outputs": [],
      "source": [
        "from nltk.tokenize import TweetTokenizer\n",
        "from nltk.corpus import stopwords\n",
        "from nltk.stem.wordnet import WordNetLemmatizer"
      ]
    },
    {
      "cell_type": "code",
      "execution_count": null,
      "metadata": {
        "execution": {
          "iopub.execute_input": "2022-10-24T15:49:52.763885Z",
          "iopub.status.busy": "2022-10-24T15:49:52.763520Z",
          "iopub.status.idle": "2022-10-24T15:49:52.782143Z",
          "shell.execute_reply": "2022-10-24T15:49:52.781073Z",
          "shell.execute_reply.started": "2022-10-24T15:49:52.763852Z"
        },
        "id": "B1Ig0m8wJLbG",
        "trusted": true
      },
      "outputs": [],
      "source": [
        "# Stop words\n",
        "\n",
        "stop = stopwords.words('portuguese')\n",
        "\n",
        "df['Texto'] = df['Texto'].apply(lambda x: ' '.join([word for word in x.split() if word not in (stop)]))"
      ]
    },
    {
      "cell_type": "code",
      "execution_count": null,
      "metadata": {
        "execution": {
          "iopub.execute_input": "2022-10-24T15:49:52.784556Z",
          "iopub.status.busy": "2022-10-24T15:49:52.783301Z",
          "iopub.status.idle": "2022-10-24T15:49:54.156010Z",
          "shell.execute_reply": "2022-10-24T15:49:54.154557Z",
          "shell.execute_reply.started": "2022-10-24T15:49:52.784493Z"
        },
        "id": "rO-DsgIiJLhC",
        "trusted": true
      },
      "outputs": [],
      "source": [
        "# Lematização\n",
        "\n",
        "df['Texto'] = df['Texto'].apply(lambda row: \" \".join([w.lemma_ for w in nlp(row)]))"
      ]
    },
    {
      "cell_type": "markdown",
      "metadata": {
        "id": "qKBKyiws7Zld"
      },
      "source": [
        "# Teste"
      ]
    },
    {
      "cell_type": "markdown",
      "metadata": {
        "id": "SE6Uale4967I"
      },
      "source": [
        "## Análise exploratória dos dados"
      ]
    },
    {
      "cell_type": "code",
      "execution_count": null,
      "metadata": {
        "execution": {
          "iopub.execute_input": "2022-10-24T15:49:54.158177Z",
          "iopub.status.busy": "2022-10-24T15:49:54.157732Z",
          "iopub.status.idle": "2022-10-24T15:49:54.166823Z",
          "shell.execute_reply": "2022-10-24T15:49:54.165426Z",
          "shell.execute_reply.started": "2022-10-24T15:49:54.158132Z"
        },
        "id": "_ld7aF6k7iv0",
        "trusted": true
      },
      "outputs": [],
      "source": [
        "df_test = pd.read_csv(\"../input/5cd-classificacao-emocao/6 - base_dados_teste_certificacao - Kaggle.csv\", error_bad_lines=False)"
      ]
    },
    {
      "cell_type": "code",
      "execution_count": null,
      "metadata": {
        "execution": {
          "iopub.execute_input": "2022-10-24T15:49:54.169408Z",
          "iopub.status.busy": "2022-10-24T15:49:54.169029Z",
          "iopub.status.idle": "2022-10-24T15:49:54.181781Z",
          "shell.execute_reply": "2022-10-24T15:49:54.180441Z",
          "shell.execute_reply.started": "2022-10-24T15:49:54.169368Z"
        },
        "id": "OTAyDT357o_c",
        "trusted": true
      },
      "outputs": [],
      "source": [
        "df_test.head()"
      ]
    },
    {
      "cell_type": "code",
      "execution_count": null,
      "metadata": {
        "execution": {
          "iopub.execute_input": "2022-10-24T15:49:54.184020Z",
          "iopub.status.busy": "2022-10-24T15:49:54.183313Z",
          "iopub.status.idle": "2022-10-24T15:49:54.201750Z",
          "shell.execute_reply": "2022-10-24T15:49:54.200321Z",
          "shell.execute_reply.started": "2022-10-24T15:49:54.183980Z"
        },
        "id": "SmigYvAC_b4M",
        "trusted": true
      },
      "outputs": [],
      "source": [
        "df_test.info()"
      ]
    },
    {
      "cell_type": "code",
      "execution_count": null,
      "metadata": {
        "execution": {
          "iopub.execute_input": "2022-10-24T15:49:54.203811Z",
          "iopub.status.busy": "2022-10-24T15:49:54.203340Z",
          "iopub.status.idle": "2022-10-24T15:49:54.219773Z",
          "shell.execute_reply": "2022-10-24T15:49:54.218464Z",
          "shell.execute_reply.started": "2022-10-24T15:49:54.203777Z"
        },
        "id": "fTw34Waa_i5c",
        "trusted": true
      },
      "outputs": [],
      "source": [
        "df_test.isnull().sum()"
      ]
    },
    {
      "cell_type": "markdown",
      "metadata": {
        "id": "6GZFF2gI-AFO"
      },
      "source": [
        "## Pré - processamento"
      ]
    },
    {
      "cell_type": "markdown",
      "metadata": {
        "id": "rE1dvERqJz75"
      },
      "source": [
        "Lowercase e acenteuação"
      ]
    },
    {
      "cell_type": "code",
      "execution_count": null,
      "metadata": {
        "execution": {
          "iopub.execute_input": "2022-10-24T15:49:54.257412Z",
          "iopub.status.busy": "2022-10-24T15:49:54.257024Z",
          "iopub.status.idle": "2022-10-24T15:49:54.272945Z",
          "shell.execute_reply": "2022-10-24T15:49:54.271926Z",
          "shell.execute_reply.started": "2022-10-24T15:49:54.257366Z"
        },
        "id": "pVPXqV0fJz76",
        "trusted": true
      },
      "outputs": [],
      "source": [
        "df_test['Texto'] = df_test.Texto.apply(str.lower)\n",
        "df_test['Texto'] = df_test.Texto.apply(unidecode)"
      ]
    },
    {
      "cell_type": "markdown",
      "metadata": {
        "id": "LfD5YY6HLBkP"
      },
      "source": [
        "Retindo caracteres especiais"
      ]
    },
    {
      "cell_type": "code",
      "execution_count": null,
      "metadata": {
        "execution": {
          "iopub.execute_input": "2022-10-24T15:49:54.274621Z",
          "iopub.status.busy": "2022-10-24T15:49:54.274255Z",
          "iopub.status.idle": "2022-10-24T15:49:54.285172Z",
          "shell.execute_reply": "2022-10-24T15:49:54.283906Z",
          "shell.execute_reply.started": "2022-10-24T15:49:54.274589Z"
        },
        "id": "_I-nS2cr_-sE",
        "trusted": true
      },
      "outputs": [],
      "source": [
        "# Substitui nickname por espaço\n",
        "\n",
        "df_test = df_test.replace(to_replace = '\\@(\\w{4,15})', value = ' ', regex = True)"
      ]
    },
    {
      "cell_type": "code",
      "execution_count": null,
      "metadata": {
        "execution": {
          "iopub.execute_input": "2022-10-24T15:49:54.287858Z",
          "iopub.status.busy": "2022-10-24T15:49:54.287231Z",
          "iopub.status.idle": "2022-10-24T15:49:54.297629Z",
          "shell.execute_reply": "2022-10-24T15:49:54.296534Z",
          "shell.execute_reply.started": "2022-10-24T15:49:54.287805Z"
        },
        "id": "0Vxh8joaLBkR",
        "trusted": true
      },
      "outputs": [],
      "source": [
        "# Substitui link por espaço\n",
        "\n",
        "df_test = df_test.replace(to_replace ='http[s]?://(?:[a-zA-Z]|[0-9]|[$-_@.&+]|[!*\\(\\),]|(?:%[0-9a-fA-F][0-9a-fA-F]))+', value = ' ', regex = True)"
      ]
    },
    {
      "cell_type": "code",
      "execution_count": null,
      "metadata": {
        "execution": {
          "iopub.execute_input": "2022-10-24T15:49:54.305345Z",
          "iopub.status.busy": "2022-10-24T15:49:54.304709Z",
          "iopub.status.idle": "2022-10-24T15:49:54.314716Z",
          "shell.execute_reply": "2022-10-24T15:49:54.313623Z",
          "shell.execute_reply.started": "2022-10-24T15:49:54.305304Z"
        },
        "id": "c3wZJ7-4LBkR",
        "trusted": true
      },
      "outputs": [],
      "source": [
        "# Substitui por espaço todos caracteres que não forem de a a Z, dígitos de 0 a 9 e o caractere sublinhado _\n",
        "\n",
        "df_test['Texto'] = df_test['Texto'].apply(lambda x : re.sub('\\W', ' ', str(x)))"
      ]
    },
    {
      "cell_type": "code",
      "execution_count": null,
      "metadata": {
        "execution": {
          "iopub.execute_input": "2022-10-24T15:49:54.317036Z",
          "iopub.status.busy": "2022-10-24T15:49:54.316340Z",
          "iopub.status.idle": "2022-10-24T15:49:54.327867Z",
          "shell.execute_reply": "2022-10-24T15:49:54.326887Z",
          "shell.execute_reply.started": "2022-10-24T15:49:54.316999Z"
        },
        "id": "HacZilX2LBkS",
        "trusted": true
      },
      "outputs": [],
      "source": [
        "# Substitui o caracter _ por espaço\n",
        "\n",
        "df_test = df_test.replace(to_replace ='_', value = ' ', regex = True)"
      ]
    },
    {
      "cell_type": "markdown",
      "metadata": {
        "id": "dt1AnQ7tJz77"
      },
      "source": [
        "Stop word, lematização e tokenização"
      ]
    },
    {
      "cell_type": "code",
      "execution_count": null,
      "metadata": {
        "execution": {
          "iopub.execute_input": "2022-10-24T15:49:54.330282Z",
          "iopub.status.busy": "2022-10-24T15:49:54.329169Z",
          "iopub.status.idle": "2022-10-24T15:49:54.341993Z",
          "shell.execute_reply": "2022-10-24T15:49:54.340815Z",
          "shell.execute_reply.started": "2022-10-24T15:49:54.330243Z"
        },
        "id": "pMHnpRfQJz77",
        "trusted": true
      },
      "outputs": [],
      "source": [
        "from nltk.tokenize import TweetTokenizer\n",
        "from nltk.corpus import stopwords\n",
        "from nltk.stem.wordnet import WordNetLemmatizer"
      ]
    },
    {
      "cell_type": "code",
      "execution_count": null,
      "metadata": {
        "execution": {
          "iopub.execute_input": "2022-10-24T15:49:54.344031Z",
          "iopub.status.busy": "2022-10-24T15:49:54.343214Z",
          "iopub.status.idle": "2022-10-24T15:49:54.361330Z",
          "shell.execute_reply": "2022-10-24T15:49:54.360163Z",
          "shell.execute_reply.started": "2022-10-24T15:49:54.343922Z"
        },
        "id": "mwPwVoACJz78",
        "trusted": true
      },
      "outputs": [],
      "source": [
        "# Stop words\n",
        "\n",
        "stop = stopwords.words('portuguese')\n",
        "\n",
        "df_test['Texto'] = df_test['Texto'].apply(lambda x: ' '.join([word for word in x.split() if word not in (stop)]))"
      ]
    },
    {
      "cell_type": "code",
      "execution_count": null,
      "metadata": {
        "execution": {
          "iopub.execute_input": "2022-10-24T15:49:54.363965Z",
          "iopub.status.busy": "2022-10-24T15:49:54.362753Z",
          "iopub.status.idle": "2022-10-24T15:49:55.697152Z",
          "shell.execute_reply": "2022-10-24T15:49:55.696140Z",
          "shell.execute_reply.started": "2022-10-24T15:49:54.363916Z"
        },
        "id": "Sxmo5RfbJz8A",
        "trusted": true
      },
      "outputs": [],
      "source": [
        "# Lematização\n",
        "\n",
        "df_test['Texto'] = df_test['Texto'].apply(lambda row: \" \".join([w.lemma_ for w in nlp(row)]))"
      ]
    },
    {
      "cell_type": "markdown",
      "metadata": {
        "id": "6sSEHaHbSI-n"
      },
      "source": [
        "## Modelo"
      ]
    },
    {
      "cell_type": "code",
      "execution_count": null,
      "metadata": {
        "execution": {
          "iopub.execute_input": "2022-10-24T15:49:55.699043Z",
          "iopub.status.busy": "2022-10-24T15:49:55.698506Z",
          "iopub.status.idle": "2022-10-24T15:49:55.703890Z",
          "shell.execute_reply": "2022-10-24T15:49:55.702406Z",
          "shell.execute_reply.started": "2022-10-24T15:49:55.699009Z"
        },
        "id": "1ChXd2tEB_Ar",
        "trusted": true
      },
      "outputs": [],
      "source": [
        "from sklearn import model_selection, preprocessing, linear_model, metrics\n",
        "from sklearn.feature_extraction.text import CountVectorizer"
      ]
    },
    {
      "cell_type": "markdown",
      "metadata": {
        "id": "yhV59canBlLx"
      },
      "source": [
        "Treino e validação - Hould out"
      ]
    },
    {
      "cell_type": "code",
      "execution_count": null,
      "metadata": {
        "execution": {
          "iopub.execute_input": "2022-10-24T15:49:55.706232Z",
          "iopub.status.busy": "2022-10-24T15:49:55.705690Z",
          "iopub.status.idle": "2022-10-24T15:49:55.722808Z",
          "shell.execute_reply": "2022-10-24T15:49:55.721387Z",
          "shell.execute_reply.started": "2022-10-24T15:49:55.706185Z"
        },
        "id": "zLIJrQwNA6Hy",
        "trusted": true
      },
      "outputs": [],
      "source": [
        "train_x, test_x, train_y, test_y = model_selection.train_test_split(df[\"Texto\"], df[\"sentiment_int\"])"
      ]
    },
    {
      "cell_type": "markdown",
      "metadata": {
        "id": "e4Nab6_m49z_"
      },
      "source": [
        "CountVectorizer para contar as palavras em cada tweet - frequencia positiva e negativa das palavras"
      ]
    },
    {
      "cell_type": "code",
      "execution_count": null,
      "metadata": {
        "execution": {
          "iopub.execute_input": "2022-10-24T15:49:55.724885Z",
          "iopub.status.busy": "2022-10-24T15:49:55.724384Z",
          "iopub.status.idle": "2022-10-24T15:49:55.741151Z",
          "shell.execute_reply": "2022-10-24T15:49:55.739858Z",
          "shell.execute_reply.started": "2022-10-24T15:49:55.724834Z"
        },
        "id": "Q8G2NMJHCkjt",
        "trusted": true
      },
      "outputs": [],
      "source": [
        "vectorizer = CountVectorizer()\n",
        "vectorizer.fit(train_x)"
      ]
    },
    {
      "cell_type": "code",
      "execution_count": null,
      "metadata": {
        "execution": {
          "iopub.execute_input": "2022-10-24T15:49:55.743302Z",
          "iopub.status.busy": "2022-10-24T15:49:55.742636Z",
          "iopub.status.idle": "2022-10-24T15:49:55.754126Z",
          "shell.execute_reply": "2022-10-24T15:49:55.752749Z",
          "shell.execute_reply.started": "2022-10-24T15:49:55.743264Z"
        },
        "id": "uVRnRzAMA6LB",
        "trusted": true
      },
      "outputs": [],
      "source": [
        "x_train_count = vectorizer.transform(train_x)\n",
        "x_test_count = vectorizer.transform(test_x)"
      ]
    },
    {
      "cell_type": "code",
      "execution_count": null,
      "metadata": {
        "execution": {
          "iopub.execute_input": "2022-10-24T15:49:55.756527Z",
          "iopub.status.busy": "2022-10-24T15:49:55.756045Z",
          "iopub.status.idle": "2022-10-24T15:49:55.772393Z",
          "shell.execute_reply": "2022-10-24T15:49:55.771466Z",
          "shell.execute_reply.started": "2022-10-24T15:49:55.756491Z"
        },
        "id": "2OBoDbIQBIW8",
        "trusted": true
      },
      "outputs": [],
      "source": [
        "x_train_count.toarray()"
      ]
    },
    {
      "cell_type": "markdown",
      "metadata": {
        "id": "slPPmuznFEWh"
      },
      "source": [
        "Regressão logística"
      ]
    },
    {
      "cell_type": "code",
      "execution_count": null,
      "metadata": {
        "execution": {
          "iopub.execute_input": "2022-10-24T15:49:55.774687Z",
          "iopub.status.busy": "2022-10-24T15:49:55.773785Z",
          "iopub.status.idle": "2022-10-24T15:49:55.797283Z",
          "shell.execute_reply": "2022-10-24T15:49:55.796099Z",
          "shell.execute_reply.started": "2022-10-24T15:49:55.774647Z"
        },
        "id": "nyFBd4mCBIZA",
        "trusted": true
      },
      "outputs": [],
      "source": [
        "log = linear_model.LogisticRegression()\n",
        "log_model = log.fit(x_train_count, train_y)"
      ]
    },
    {
      "cell_type": "markdown",
      "metadata": {
        "id": "hw_5VsvdFMHK"
      },
      "source": [
        "F1 score"
      ]
    },
    {
      "cell_type": "code",
      "execution_count": null,
      "metadata": {
        "execution": {
          "iopub.execute_input": "2022-10-24T15:49:55.799734Z",
          "iopub.status.busy": "2022-10-24T15:49:55.799250Z",
          "iopub.status.idle": "2022-10-24T15:49:55.833627Z",
          "shell.execute_reply": "2022-10-24T15:49:55.832335Z",
          "shell.execute_reply.started": "2022-10-24T15:49:55.799688Z"
        },
        "id": "OavtDApcFNtC",
        "trusted": true
      },
      "outputs": [],
      "source": [
        "scores = model_selection.cross_val_score(log_model, x_test_count, test_y, cv = 3, scoring=\"f1\")\n",
        "print(scores)"
      ]
    },
    {
      "cell_type": "markdown",
      "metadata": {
        "id": "Z8mtvM5bFecE"
      },
      "source": [
        "Teste"
      ]
    },
    {
      "cell_type": "code",
      "execution_count": null,
      "metadata": {
        "execution": {
          "iopub.execute_input": "2022-10-24T15:49:55.835281Z",
          "iopub.status.busy": "2022-10-24T15:49:55.834840Z",
          "iopub.status.idle": "2022-10-24T15:49:55.843016Z",
          "shell.execute_reply": "2022-10-24T15:49:55.841819Z",
          "shell.execute_reply.started": "2022-10-24T15:49:55.835235Z"
        },
        "id": "777X388sBc-6",
        "trusted": true
      },
      "outputs": [],
      "source": [
        "test_vect = vectorizer.transform(df_test.Texto)\n",
        "test_vect = test_vect.toarray()"
      ]
    },
    {
      "cell_type": "markdown",
      "metadata": {
        "id": "3RnKJrlFFxTE"
      },
      "source": [
        "Predições"
      ]
    },
    {
      "cell_type": "code",
      "execution_count": null,
      "metadata": {
        "execution": {
          "iopub.execute_input": "2022-10-24T15:49:55.845021Z",
          "iopub.status.busy": "2022-10-24T15:49:55.844596Z",
          "iopub.status.idle": "2022-10-24T15:49:55.861485Z",
          "shell.execute_reply": "2022-10-24T15:49:55.859847Z",
          "shell.execute_reply.started": "2022-10-24T15:49:55.844922Z"
        },
        "id": "bpe2fgAEBdDf",
        "trusted": true
      },
      "outputs": [],
      "source": [
        "predictions = log_model.predict(test_vect)\n",
        "predictions"
      ]
    },
    {
      "cell_type": "code",
      "execution_count": null,
      "metadata": {
        "execution": {
          "iopub.execute_input": "2022-10-24T15:49:55.865646Z",
          "iopub.status.busy": "2022-10-24T15:49:55.863623Z",
          "iopub.status.idle": "2022-10-24T15:49:55.877402Z",
          "shell.execute_reply": "2022-10-24T15:49:55.875321Z",
          "shell.execute_reply.started": "2022-10-24T15:49:55.865574Z"
        },
        "id": "4XVjlQty_-sO",
        "trusted": true
      },
      "outputs": [],
      "source": [
        "predictions = pd.DataFrame(predictions)"
      ]
    },
    {
      "cell_type": "code",
      "execution_count": null,
      "metadata": {
        "execution": {
          "iopub.execute_input": "2022-10-24T15:49:55.887573Z",
          "iopub.status.busy": "2022-10-24T15:49:55.886280Z",
          "iopub.status.idle": "2022-10-24T15:49:55.908828Z",
          "shell.execute_reply": "2022-10-24T15:49:55.906675Z",
          "shell.execute_reply.started": "2022-10-24T15:49:55.887492Z"
        },
        "id": "QFJ7KN_K_-sP",
        "trusted": true
      },
      "outputs": [],
      "source": [
        "predictions[\"sentimento\"] = predictions[0].map({1 : \"positivo\", 0 : \"negativo\"})"
      ]
    },
    {
      "cell_type": "code",
      "execution_count": null,
      "metadata": {
        "execution": {
          "iopub.execute_input": "2022-10-24T15:51:06.780913Z",
          "iopub.status.busy": "2022-10-24T15:51:06.780154Z",
          "iopub.status.idle": "2022-10-24T15:51:06.852330Z",
          "shell.execute_reply": "2022-10-24T15:51:06.851061Z",
          "shell.execute_reply.started": "2022-10-24T15:51:06.780849Z"
        },
        "id": "AN8dcKro_-sP",
        "trusted": true
      },
      "outputs": [],
      "source": [
        "predictions.insert(1, \"id\", range(1, 197), True)"
      ]
    },
    {
      "cell_type": "code",
      "execution_count": null,
      "metadata": {
        "execution": {
          "iopub.execute_input": "2022-10-24T15:49:55.946188Z",
          "iopub.status.busy": "2022-10-24T15:49:55.944882Z",
          "iopub.status.idle": "2022-10-24T15:49:55.967552Z",
          "shell.execute_reply": "2022-10-24T15:49:55.964128Z",
          "shell.execute_reply.started": "2022-10-24T15:49:55.946092Z"
        },
        "id": "ZbNNumIS_-sP",
        "trusted": true
      },
      "outputs": [],
      "source": [
        "predictions.drop([0], axis=1, inplace=True)"
      ]
    }
  ],
  "metadata": {
    "colab": {
      "collapsed_sections": [
        "b5c13w3x9w_1",
        "EyK_mDSp9qnd",
        "SE6Uale4967I",
        "6GZFF2gI-AFO",
        "6sSEHaHbSI-n"
      ],
      "provenance": []
    },
    "kernelspec": {
      "display_name": "Python 3",
      "language": "python",
      "name": "python3"
    },
    "language_info": {
      "codemirror_mode": {
        "name": "ipython",
        "version": 3
      },
      "file_extension": ".py",
      "mimetype": "text/x-python",
      "name": "python",
      "nbconvert_exporter": "python",
      "pygments_lexer": "ipython3",
      "version": "3.6.4"
    }
  },
  "nbformat": 4,
  "nbformat_minor": 0
}
